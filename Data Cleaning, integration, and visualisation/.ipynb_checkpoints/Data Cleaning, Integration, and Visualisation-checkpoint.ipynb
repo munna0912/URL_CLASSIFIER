{
 "cells": [
  {
   "cell_type": "markdown",
   "id": "3b613069",
   "metadata": {},
   "source": [
    "# Data Cleaning, Integration, and Visualisation"
   ]
  },
  {
   "cell_type": "markdown",
   "id": "a7629ad3",
   "metadata": {},
   "source": [
    "## 1. malicious_phish Kaggle Dataset Visualisation"
   ]
  },
  {
   "cell_type": "code",
   "execution_count": 7,
   "id": "bbeaa880",
   "metadata": {
    "scrolled": true
   },
   "outputs": [
    {
     "data": {
      "text/html": [
       "<div>\n",
       "<style scoped>\n",
       "    .dataframe tbody tr th:only-of-type {\n",
       "        vertical-align: middle;\n",
       "    }\n",
       "\n",
       "    .dataframe tbody tr th {\n",
       "        vertical-align: top;\n",
       "    }\n",
       "\n",
       "    .dataframe thead th {\n",
       "        text-align: right;\n",
       "    }\n",
       "</style>\n",
       "<table border=\"1\" class=\"dataframe\">\n",
       "  <thead>\n",
       "    <tr style=\"text-align: right;\">\n",
       "      <th></th>\n",
       "      <th>url</th>\n",
       "      <th>type</th>\n",
       "    </tr>\n",
       "  </thead>\n",
       "  <tbody>\n",
       "    <tr>\n",
       "      <th>count</th>\n",
       "      <td>651191</td>\n",
       "      <td>651191</td>\n",
       "    </tr>\n",
       "    <tr>\n",
       "      <th>unique</th>\n",
       "      <td>641119</td>\n",
       "      <td>4</td>\n",
       "    </tr>\n",
       "    <tr>\n",
       "      <th>top</th>\n",
       "      <td>http://style.org.hc360.com/css/detail/mysite/s...</td>\n",
       "      <td>benign</td>\n",
       "    </tr>\n",
       "    <tr>\n",
       "      <th>freq</th>\n",
       "      <td>180</td>\n",
       "      <td>428103</td>\n",
       "    </tr>\n",
       "  </tbody>\n",
       "</table>\n",
       "</div>"
      ],
      "text/plain": [
       "                                                      url    type\n",
       "count                                              651191  651191\n",
       "unique                                             641119       4\n",
       "top     http://style.org.hc360.com/css/detail/mysite/s...  benign\n",
       "freq                                                  180  428103"
      ]
     },
     "execution_count": 7,
     "metadata": {},
     "output_type": "execute_result"
    }
   ],
   "source": [
    "import pandas as pd\n",
    "dataset = pd.read_csv(\"D:/Data Science/Project/link detection/url_checker/dataset/malicious_phish.csv\")\n",
    "dataset.describe()"
   ]
  },
  {
   "cell_type": "code",
   "execution_count": 8,
   "id": "d0810c2c",
   "metadata": {},
   "outputs": [],
   "source": [
    "import numpy as np\n",
    "import matplotlib.pyplot as plt"
   ]
  },
  {
   "cell_type": "code",
   "execution_count": 44,
   "id": "6dce3596",
   "metadata": {},
   "outputs": [
    {
     "data": {
      "text/plain": [
       "array(['benign', 'defacement', 'malware', 'phishing'], dtype=object)"
      ]
     },
     "execution_count": 44,
     "metadata": {},
     "output_type": "execute_result"
    }
   ],
   "source": [
    "labels = np.array(dataset.type.unique())\n",
    "labels.sort()\n",
    "labels"
   ]
  },
  {
   "cell_type": "code",
   "execution_count": 31,
   "id": "5c3af0a4",
   "metadata": {},
   "outputs": [
    {
     "name": "stdout",
     "output_type": "stream",
     "text": [
      "               url\n",
      "type              \n",
      "benign      428103\n",
      "defacement   96457\n",
      "malware      32520\n",
      "phishing     94111\n"
     ]
    }
   ],
   "source": [
    "counts = dataset.groupby(['type']).count()\n",
    "print(counts)"
   ]
  },
  {
   "cell_type": "code",
   "execution_count": 46,
   "id": "53dc0497",
   "metadata": {},
   "outputs": [
    {
     "data": {
      "text/plain": [
       "array([428103,  96457,  32520,  94111], dtype=int64)"
      ]
     },
     "execution_count": 46,
     "metadata": {},
     "output_type": "execute_result"
    }
   ],
   "source": [
    "counts = np.array(counts).reshape(-1)\n",
    "counts"
   ]
  },
  {
   "cell_type": "code",
   "execution_count": 52,
   "id": "91ad10a0",
   "metadata": {},
   "outputs": [
    {
     "data": {
      "image/png": "[encoded data removed]",
      "text/plain": [
       "<Figure size 432x288 with 1 Axes>"
      ]
     },
     "metadata": {},
     "output_type": "display_data"
    }
   ],
   "source": [
    "plt.pie(np.array(counts),explode=[0.05,0,0,0], labels=labels, autopct='%1.2f%%',shadow=True )\n",
    "plt.title(\"Malicious URLs dataset (kaggle)\")\n",
    "plt.show()"
   ]
  },
  {
   "cell_type": "markdown",
   "id": "24e8bcf2",
   "metadata": {},
   "source": []
  },
  {
   "cell_type": "markdown",
   "id": "341be566",
   "metadata": {},
   "source": [
    "## 2. Clean and add URLhause phising links to datase "
   ]
  },
  {
   "cell_type": "code",
   "execution_count": 57,
   "id": "077a905e",
   "metadata": {
    "scrolled": true
   },
   "outputs": [
    {
     "data": {
      "text/html": [
       "<div>\n",
       "<style scoped>\n",
       "    .dataframe tbody tr th:only-of-type {\n",
       "        vertical-align: middle;\n",
       "    }\n",
       "\n",
       "    .dataframe tbody tr th {\n",
       "        vertical-align: top;\n",
       "    }\n",
       "\n",
       "    .dataframe thead th {\n",
       "        text-align: right;\n",
       "    }\n",
       "</style>\n",
       "<table border=\"1\" class=\"dataframe\">\n",
       "  <thead>\n",
       "    <tr style=\"text-align: right;\">\n",
       "      <th></th>\n",
       "      <th>url</th>\n",
       "    </tr>\n",
       "  </thead>\n",
       "  <tbody>\n",
       "    <tr>\n",
       "      <th>0</th>\n",
       "      <td>http://117.216.22.215:40288/Mozi.m</td>\n",
       "    </tr>\n",
       "    <tr>\n",
       "      <th>1</th>\n",
       "      <td>http://117.212.172.53:47514/Mozi.m</td>\n",
       "    </tr>\n",
       "    <tr>\n",
       "      <th>2</th>\n",
       "      <td>http://117.216.3.221:54646/Mozi.m</td>\n",
       "    </tr>\n",
       "    <tr>\n",
       "      <th>3</th>\n",
       "      <td>http://123.5.126.245:36562/Mozi.m</td>\n",
       "    </tr>\n",
       "    <tr>\n",
       "      <th>4</th>\n",
       "      <td>http://182.124.147.217:50588/bin.sh</td>\n",
       "    </tr>\n",
       "    <tr>\n",
       "      <th>...</th>\n",
       "      <td>...</td>\n",
       "    </tr>\n",
       "    <tr>\n",
       "      <th>140221</th>\n",
       "      <td>http://58.230.89.42:34092/.i</td>\n",
       "    </tr>\n",
       "    <tr>\n",
       "      <th>140222</th>\n",
       "      <td>http://63.245.122.93:29703/.i</td>\n",
       "    </tr>\n",
       "    <tr>\n",
       "      <th>140223</th>\n",
       "      <td>http://123.194.235.37:49320/.i</td>\n",
       "    </tr>\n",
       "    <tr>\n",
       "      <th>140224</th>\n",
       "      <td>http://da.alibuf.com:3/445.exe</td>\n",
       "    </tr>\n",
       "    <tr>\n",
       "      <th>140225</th>\n",
       "      <td>http://lameguard.ru/interlude-online/ru/system...</td>\n",
       "    </tr>\n",
       "  </tbody>\n",
       "</table>\n",
       "<p>140226 rows × 1 columns</p>\n",
       "</div>"
      ],
      "text/plain": [
       "                                                      url\n",
       "0                      http://117.216.22.215:40288/Mozi.m\n",
       "1                      http://117.212.172.53:47514/Mozi.m\n",
       "2                       http://117.216.3.221:54646/Mozi.m\n",
       "3                       http://123.5.126.245:36562/Mozi.m\n",
       "4                     http://182.124.147.217:50588/bin.sh\n",
       "...                                                   ...\n",
       "140221                       http://58.230.89.42:34092/.i\n",
       "140222                      http://63.245.122.93:29703/.i\n",
       "140223                     http://123.194.235.37:49320/.i\n",
       "140224                     http://da.alibuf.com:3/445.exe\n",
       "140225  http://lameguard.ru/interlude-online/ru/system...\n",
       "\n",
       "[140226 rows x 1 columns]"
      ]
     },
     "execution_count": 57,
     "metadata": {},
     "output_type": "execute_result"
    }
   ],
   "source": [
    "dataset2 = pd.read_csv(\"D:/Data Science/Project/link detection/url_checker/dataset/urlhause_links.csv\")\n",
    "dataset2"
   ]
  },
  {
   "cell_type": "code",
   "execution_count": 58,
   "id": "d7704d74",
   "metadata": {},
   "outputs": [],
   "source": [
    "labels_temp = pd.DataFrame([\"danger\" for i in range(len(dataset2))])"
   ]
  },
  {
   "cell_type": "code",
   "execution_count": 59,
   "id": "20cfb763",
   "metadata": {},
   "outputs": [],
   "source": [
    "dataset2 = pd.concat([dataset2,labels_temp], axis=1)"
   ]
  },
  {
   "cell_type": "code",
   "execution_count": 61,
   "id": "2de2ee38",
   "metadata": {},
   "outputs": [
    {
     "data": {
      "text/html": [
       "<div>\n",
       "<style scoped>\n",
       "    .dataframe tbody tr th:only-of-type {\n",
       "        vertical-align: middle;\n",
       "    }\n",
       "\n",
       "    .dataframe tbody tr th {\n",
       "        vertical-align: top;\n",
       "    }\n",
       "\n",
       "    .dataframe thead th {\n",
       "        text-align: right;\n",
       "    }\n",
       "</style>\n",
       "<table border=\"1\" class=\"dataframe\">\n",
       "  <thead>\n",
       "    <tr style=\"text-align: right;\">\n",
       "      <th></th>\n",
       "      <th>url</th>\n",
       "      <th>0</th>\n",
       "    </tr>\n",
       "  </thead>\n",
       "  <tbody>\n",
       "    <tr>\n",
       "      <th>0</th>\n",
       "      <td>http://117.216.22.215:40288/Mozi.m</td>\n",
       "      <td>danger</td>\n",
       "    </tr>\n",
       "    <tr>\n",
       "      <th>1</th>\n",
       "      <td>http://117.212.172.53:47514/Mozi.m</td>\n",
       "      <td>danger</td>\n",
       "    </tr>\n",
       "    <tr>\n",
       "      <th>2</th>\n",
       "      <td>http://117.216.3.221:54646/Mozi.m</td>\n",
       "      <td>danger</td>\n",
       "    </tr>\n",
       "    <tr>\n",
       "      <th>3</th>\n",
       "      <td>http://123.5.126.245:36562/Mozi.m</td>\n",
       "      <td>danger</td>\n",
       "    </tr>\n",
       "    <tr>\n",
       "      <th>4</th>\n",
       "      <td>http://182.124.147.217:50588/bin.sh</td>\n",
       "      <td>danger</td>\n",
       "    </tr>\n",
       "    <tr>\n",
       "      <th>...</th>\n",
       "      <td>...</td>\n",
       "      <td>...</td>\n",
       "    </tr>\n",
       "    <tr>\n",
       "      <th>140221</th>\n",
       "      <td>http://58.230.89.42:34092/.i</td>\n",
       "      <td>danger</td>\n",
       "    </tr>\n",
       "    <tr>\n",
       "      <th>140222</th>\n",
       "      <td>http://63.245.122.93:29703/.i</td>\n",
       "      <td>danger</td>\n",
       "    </tr>\n",
       "    <tr>\n",
       "      <th>140223</th>\n",
       "      <td>http://123.194.235.37:49320/.i</td>\n",
       "      <td>danger</td>\n",
       "    </tr>\n",
       "    <tr>\n",
       "      <th>140224</th>\n",
       "      <td>http://da.alibuf.com:3/445.exe</td>\n",
       "      <td>danger</td>\n",
       "    </tr>\n",
       "    <tr>\n",
       "      <th>140225</th>\n",
       "      <td>http://lameguard.ru/interlude-online/ru/system...</td>\n",
       "      <td>danger</td>\n",
       "    </tr>\n",
       "  </tbody>\n",
       "</table>\n",
       "<p>140226 rows × 2 columns</p>\n",
       "</div>"
      ],
      "text/plain": [
       "                                                      url       0\n",
       "0                      http://117.216.22.215:40288/Mozi.m  danger\n",
       "1                      http://117.212.172.53:47514/Mozi.m  danger\n",
       "2                       http://117.216.3.221:54646/Mozi.m  danger\n",
       "3                       http://123.5.126.245:36562/Mozi.m  danger\n",
       "4                     http://182.124.147.217:50588/bin.sh  danger\n",
       "...                                                   ...     ...\n",
       "140221                       http://58.230.89.42:34092/.i  danger\n",
       "140222                      http://63.245.122.93:29703/.i  danger\n",
       "140223                     http://123.194.235.37:49320/.i  danger\n",
       "140224                     http://da.alibuf.com:3/445.exe  danger\n",
       "140225  http://lameguard.ru/interlude-online/ru/system...  danger\n",
       "\n",
       "[140226 rows x 2 columns]"
      ]
     },
     "execution_count": 61,
     "metadata": {},
     "output_type": "execute_result"
    }
   ],
   "source": [
    "dataset2.rename({0:\"type\"})\n",
    "dataset2"
   ]
  },
  {
   "cell_type": "code",
   "execution_count": null,
   "id": "b44e4536",
   "metadata": {},
   "outputs": [],
   "source": []
  }
 ],
 "metadata": {
  "kernelspec": {
   "display_name": "Python 3 (ipykernel)",
   "language": "python",
   "name": "python3"
  },
  "language_info": {
   "codemirror_mode": {
    "name": "ipython",
    "version": 3
   },
   "file_extension": ".py",
   "mimetype": "text/x-python",
   "name": "python",
   "nbconvert_exporter": "python",
   "pygments_lexer": "ipython3",
   "version": "3.9.12"
  }
 },
 "nbformat": 4,
 "nbformat_minor": 5
}
