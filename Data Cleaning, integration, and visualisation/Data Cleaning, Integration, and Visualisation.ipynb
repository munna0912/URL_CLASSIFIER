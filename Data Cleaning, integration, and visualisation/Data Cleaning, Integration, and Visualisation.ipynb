{
 "cells": [
  {
   "cell_type": "markdown",
   "id": "5fb4fca3",
   "metadata": {},
   "source": [
    "# Data Cleaning, Integration, and Visualisation"
   ]
  },
  {
   "cell_type": "markdown",
   "id": "2abc3b35",
   "metadata": {},
   "source": [
    "## 1. malicious_phish Kaggle Dataset Visualisation"
   ]
  },
  {
   "cell_type": "code",
   "execution_count": 117,
   "id": "a124ca6c",
   "metadata": {
    "scrolled": true
   },
   "outputs": [
    {
     "name": "stdout",
     "output_type": "stream",
     "text": [
      "                                                      url        type\n",
      "0                                        br-icloud.com.br    phishing\n",
      "1                     mp3raid.com/music/krizz_kaliko.html      benign\n",
      "2                         bopsecrets.org/rexroth/cr/1.htm      benign\n",
      "3       http://www.garage-pirenne.be/index.php?option=...  defacement\n",
      "4       http://adventure-nicaragua.net/index.php?optio...  defacement\n",
      "...                                                   ...         ...\n",
      "651186            xbox360.ign.com/objects/850/850402.html    phishing\n",
      "651187       games.teamxbox.com/xbox-360/1860/Dead-Space/    phishing\n",
      "651188         www.gamespot.com/xbox360/action/deadspace/    phishing\n",
      "651189      en.wikipedia.org/wiki/Dead_Space_(video_game)    phishing\n",
      "651190          www.angelfire.com/goth/devilmaycrytonite/    phishing\n",
      "\n",
      "[651191 rows x 2 columns]\n"
     ]
    }
   ],
   "source": [
    "import pandas as pd\n",
    "dataset = pd.read_csv(\"D:/Data Science/Project/link detection/url_checker/dataset/malicious_phish.csv\")\n",
    "print(dataset)"
   ]
  },
  {
   "cell_type": "code",
   "execution_count": 80,
   "id": "3719861d",
   "metadata": {},
   "outputs": [],
   "source": [
    "import numpy as np\n",
    "import matplotlib.pyplot as plt"
   ]
  },
  {
   "cell_type": "code",
   "execution_count": 81,
   "id": "db53e230",
   "metadata": {},
   "outputs": [
    {
     "data": {
      "text/plain": [
       "array(['benign', 'defacement', 'malware', 'phishing'], dtype=object)"
      ]
     },
     "execution_count": 81,
     "metadata": {},
     "output_type": "execute_result"
    }
   ],
   "source": [
    "labels = np.array(dataset.type.unique())\n",
    "labels.sort()\n",
    "labels"
   ]
  },
  {
   "cell_type": "code",
   "execution_count": 82,
   "id": "6c020608",
   "metadata": {},
   "outputs": [
    {
     "name": "stdout",
     "output_type": "stream",
     "text": [
      "               url\n",
      "type              \n",
      "benign      428103\n",
      "defacement   96457\n",
      "malware      32520\n",
      "phishing     94111\n"
     ]
    }
   ],
   "source": [
    "counts = dataset.groupby(['type']).count()\n",
    "print(counts)"
   ]
  },
  {
   "cell_type": "code",
   "execution_count": 83,
   "id": "0bded88b",
   "metadata": {},
   "outputs": [
    {
     "data": {
      "text/plain": [
       "array([428103,  96457,  32520,  94111], dtype=int64)"
      ]
     },
     "execution_count": 83,
     "metadata": {},
     "output_type": "execute_result"
    }
   ],
   "source": [
    "counts = np.array(counts).reshape(-1)\n",
    "counts"
   ]
  },
  {
   "cell_type": "code",
   "execution_count": 93,
   "id": "682da44b",
   "metadata": {},
   "outputs": [
    {
     "data": {
      "image/png": "[encoded data removed]",
      "text/plain": [
       "<Figure size 432x288 with 1 Axes>"
      ]
     },
     "metadata": {},
     "output_type": "display_data"
    }
   ],
   "source": [
    "plt.pie(np.array(counts),explode=[0.05,0,0,0], labels=labels, autopct='%1.2f%%',shadow=True )\n",
    "plt.title(\"Malicious URLs dataset (kaggle)\")\n",
    "plt.show()"
   ]
  },
  {
   "cell_type": "markdown",
   "id": "647d6252",
   "metadata": {},
   "source": [
    "#### covert labels in two categories, danger and safe."
   ]
  },
  {
   "cell_type": "code",
   "execution_count": 86,
   "id": "7ed8e2f0",
   "metadata": {},
   "outputs": [
    {
     "data": {
      "text/html": [
       "<div>\n",
       "<style scoped>\n",
       "    .dataframe tbody tr th:only-of-type {\n",
       "        vertical-align: middle;\n",
       "    }\n",
       "\n",
       "    .dataframe tbody tr th {\n",
       "        vertical-align: top;\n",
       "    }\n",
       "\n",
       "    .dataframe thead th {\n",
       "        text-align: right;\n",
       "    }\n",
       "</style>\n",
       "<table border=\"1\" class=\"dataframe\">\n",
       "  <thead>\n",
       "    <tr style=\"text-align: right;\">\n",
       "      <th></th>\n",
       "      <th>url</th>\n",
       "      <th>type</th>\n",
       "    </tr>\n",
       "  </thead>\n",
       "  <tbody>\n",
       "    <tr>\n",
       "      <th>0</th>\n",
       "      <td>br-icloud.com.br</td>\n",
       "      <td>danger</td>\n",
       "    </tr>\n",
       "    <tr>\n",
       "      <th>1</th>\n",
       "      <td>mp3raid.com/music/krizz_kaliko.html</td>\n",
       "      <td>safe</td>\n",
       "    </tr>\n",
       "    <tr>\n",
       "      <th>2</th>\n",
       "      <td>bopsecrets.org/rexroth/cr/1.htm</td>\n",
       "      <td>safe</td>\n",
       "    </tr>\n",
       "    <tr>\n",
       "      <th>3</th>\n",
       "      <td>http://www.garage-pirenne.be/index.php?option=...</td>\n",
       "      <td>danger</td>\n",
       "    </tr>\n",
       "    <tr>\n",
       "      <th>4</th>\n",
       "      <td>http://adventure-nicaragua.net/index.php?optio...</td>\n",
       "      <td>danger</td>\n",
       "    </tr>\n",
       "    <tr>\n",
       "      <th>...</th>\n",
       "      <td>...</td>\n",
       "      <td>...</td>\n",
       "    </tr>\n",
       "    <tr>\n",
       "      <th>651186</th>\n",
       "      <td>xbox360.ign.com/objects/850/850402.html</td>\n",
       "      <td>danger</td>\n",
       "    </tr>\n",
       "    <tr>\n",
       "      <th>651187</th>\n",
       "      <td>games.teamxbox.com/xbox-360/1860/Dead-Space/</td>\n",
       "      <td>danger</td>\n",
       "    </tr>\n",
       "    <tr>\n",
       "      <th>651188</th>\n",
       "      <td>www.gamespot.com/xbox360/action/deadspace/</td>\n",
       "      <td>danger</td>\n",
       "    </tr>\n",
       "    <tr>\n",
       "      <th>651189</th>\n",
       "      <td>en.wikipedia.org/wiki/Dead_Space_(video_game)</td>\n",
       "      <td>danger</td>\n",
       "    </tr>\n",
       "    <tr>\n",
       "      <th>651190</th>\n",
       "      <td>www.angelfire.com/goth/devilmaycrytonite/</td>\n",
       "      <td>danger</td>\n",
       "    </tr>\n",
       "  </tbody>\n",
       "</table>\n",
       "<p>651191 rows × 2 columns</p>\n",
       "</div>"
      ],
      "text/plain": [
       "                                                      url    type\n",
       "0                                        br-icloud.com.br  danger\n",
       "1                     mp3raid.com/music/krizz_kaliko.html    safe\n",
       "2                         bopsecrets.org/rexroth/cr/1.htm    safe\n",
       "3       http://www.garage-pirenne.be/index.php?option=...  danger\n",
       "4       http://adventure-nicaragua.net/index.php?optio...  danger\n",
       "...                                                   ...     ...\n",
       "651186            xbox360.ign.com/objects/850/850402.html  danger\n",
       "651187       games.teamxbox.com/xbox-360/1860/Dead-Space/  danger\n",
       "651188         www.gamespot.com/xbox360/action/deadspace/  danger\n",
       "651189      en.wikipedia.org/wiki/Dead_Space_(video_game)  danger\n",
       "651190          www.angelfire.com/goth/devilmaycrytonite/  danger\n",
       "\n",
       "[651191 rows x 2 columns]"
      ]
     },
     "execution_count": 86,
     "metadata": {},
     "output_type": "execute_result"
    }
   ],
   "source": [
    "dataset['type'] = np.where(dataset['type']=='benign','safe','danger')\n",
    "dataset"
   ]
  },
  {
   "cell_type": "code",
   "execution_count": 100,
   "id": "b1b06028",
   "metadata": {},
   "outputs": [
    {
     "data": {
      "image/png": "[encoded data removed]",
      "text/plain": [
       "<Figure size 432x288 with 1 Axes>"
      ]
     },
     "metadata": {},
     "output_type": "display_data"
    }
   ],
   "source": [
    "plt.pie(np.array(dataset.groupby(['type']).count()).reshape(-1), labels=['danger','safe'], autopct='%1.2f%%',shadow=True )\n",
    "plt.title(\"Malicious URLs dataset updated\")\n",
    "plt.show()"
   ]
  },
  {
   "cell_type": "markdown",
   "id": "13c33033",
   "metadata": {},
   "source": [
    "## 2. Clean and add URLhause phising links to datase "
   ]
  },
  {
   "cell_type": "code",
   "execution_count": 57,
   "id": "9f90e62b",
   "metadata": {
    "scrolled": true
   },
   "outputs": [
    {
     "data": {
      "text/html": [
       "<div>\n",
       "<style scoped>\n",
       "    .dataframe tbody tr th:only-of-type {\n",
       "        vertical-align: middle;\n",
       "    }\n",
       "\n",
       "    .dataframe tbody tr th {\n",
       "        vertical-align: top;\n",
       "    }\n",
       "\n",
       "    .dataframe thead th {\n",
       "        text-align: right;\n",
       "    }\n",
       "</style>\n",
       "<table border=\"1\" class=\"dataframe\">\n",
       "  <thead>\n",
       "    <tr style=\"text-align: right;\">\n",
       "      <th></th>\n",
       "      <th>url</th>\n",
       "    </tr>\n",
       "  </thead>\n",
       "  <tbody>\n",
       "    <tr>\n",
       "      <th>0</th>\n",
       "      <td>http://117.216.22.215:40288/Mozi.m</td>\n",
       "    </tr>\n",
       "    <tr>\n",
       "      <th>1</th>\n",
       "      <td>http://117.212.172.53:47514/Mozi.m</td>\n",
       "    </tr>\n",
       "    <tr>\n",
       "      <th>2</th>\n",
       "      <td>http://117.216.3.221:54646/Mozi.m</td>\n",
       "    </tr>\n",
       "    <tr>\n",
       "      <th>3</th>\n",
       "      <td>http://123.5.126.245:36562/Mozi.m</td>\n",
       "    </tr>\n",
       "    <tr>\n",
       "      <th>4</th>\n",
       "      <td>http://182.124.147.217:50588/bin.sh</td>\n",
       "    </tr>\n",
       "    <tr>\n",
       "      <th>...</th>\n",
       "      <td>...</td>\n",
       "    </tr>\n",
       "    <tr>\n",
       "      <th>140221</th>\n",
       "      <td>http://58.230.89.42:34092/.i</td>\n",
       "    </tr>\n",
       "    <tr>\n",
       "      <th>140222</th>\n",
       "      <td>http://63.245.122.93:29703/.i</td>\n",
       "    </tr>\n",
       "    <tr>\n",
       "      <th>140223</th>\n",
       "      <td>http://123.194.235.37:49320/.i</td>\n",
       "    </tr>\n",
       "    <tr>\n",
       "      <th>140224</th>\n",
       "      <td>http://da.alibuf.com:3/445.exe</td>\n",
       "    </tr>\n",
       "    <tr>\n",
       "      <th>140225</th>\n",
       "      <td>http://lameguard.ru/interlude-online/ru/system...</td>\n",
       "    </tr>\n",
       "  </tbody>\n",
       "</table>\n",
       "<p>140226 rows × 1 columns</p>\n",
       "</div>"
      ],
      "text/plain": [
       "                                                      url\n",
       "0                      http://117.216.22.215:40288/Mozi.m\n",
       "1                      http://117.212.172.53:47514/Mozi.m\n",
       "2                       http://117.216.3.221:54646/Mozi.m\n",
       "3                       http://123.5.126.245:36562/Mozi.m\n",
       "4                     http://182.124.147.217:50588/bin.sh\n",
       "...                                                   ...\n",
       "140221                       http://58.230.89.42:34092/.i\n",
       "140222                      http://63.245.122.93:29703/.i\n",
       "140223                     http://123.194.235.37:49320/.i\n",
       "140224                     http://da.alibuf.com:3/445.exe\n",
       "140225  http://lameguard.ru/interlude-online/ru/system...\n",
       "\n",
       "[140226 rows x 1 columns]"
      ]
     },
     "execution_count": 57,
     "metadata": {},
     "output_type": "execute_result"
    }
   ],
   "source": [
    "dataset2 = pd.read_csv(\"D:/Data Science/Project/link detection/url_checker/dataset/urlhause_links.csv\")\n",
    "dataset2"
   ]
  },
  {
   "cell_type": "code",
   "execution_count": 58,
   "id": "54c11126",
   "metadata": {},
   "outputs": [],
   "source": [
    "labels_temp = pd.DataFrame([\"danger\" for i in range(len(dataset2))])"
   ]
  },
  {
   "cell_type": "code",
   "execution_count": 59,
   "id": "efc63901",
   "metadata": {},
   "outputs": [],
   "source": [
    "dataset2 = pd.concat([dataset2,labels_temp], axis=1)"
   ]
  },
  {
   "cell_type": "code",
   "execution_count": 78,
   "id": "909ecc2b",
   "metadata": {},
   "outputs": [
    {
     "data": {
      "text/html": [
       "<div>\n",
       "<style scoped>\n",
       "    .dataframe tbody tr th:only-of-type {\n",
       "        vertical-align: middle;\n",
       "    }\n",
       "\n",
       "    .dataframe tbody tr th {\n",
       "        vertical-align: top;\n",
       "    }\n",
       "\n",
       "    .dataframe thead th {\n",
       "        text-align: right;\n",
       "    }\n",
       "</style>\n",
       "<table border=\"1\" class=\"dataframe\">\n",
       "  <thead>\n",
       "    <tr style=\"text-align: right;\">\n",
       "      <th></th>\n",
       "      <th>url</th>\n",
       "      <th>type</th>\n",
       "    </tr>\n",
       "  </thead>\n",
       "  <tbody>\n",
       "    <tr>\n",
       "      <th>0</th>\n",
       "      <td>http://117.216.22.215:40288/Mozi.m</td>\n",
       "      <td>danger</td>\n",
       "    </tr>\n",
       "    <tr>\n",
       "      <th>1</th>\n",
       "      <td>http://117.212.172.53:47514/Mozi.m</td>\n",
       "      <td>danger</td>\n",
       "    </tr>\n",
       "    <tr>\n",
       "      <th>2</th>\n",
       "      <td>http://117.216.3.221:54646/Mozi.m</td>\n",
       "      <td>danger</td>\n",
       "    </tr>\n",
       "    <tr>\n",
       "      <th>3</th>\n",
       "      <td>http://123.5.126.245:36562/Mozi.m</td>\n",
       "      <td>danger</td>\n",
       "    </tr>\n",
       "    <tr>\n",
       "      <th>4</th>\n",
       "      <td>http://182.124.147.217:50588/bin.sh</td>\n",
       "      <td>danger</td>\n",
       "    </tr>\n",
       "    <tr>\n",
       "      <th>...</th>\n",
       "      <td>...</td>\n",
       "      <td>...</td>\n",
       "    </tr>\n",
       "    <tr>\n",
       "      <th>140221</th>\n",
       "      <td>http://58.230.89.42:34092/.i</td>\n",
       "      <td>danger</td>\n",
       "    </tr>\n",
       "    <tr>\n",
       "      <th>140222</th>\n",
       "      <td>http://63.245.122.93:29703/.i</td>\n",
       "      <td>danger</td>\n",
       "    </tr>\n",
       "    <tr>\n",
       "      <th>140223</th>\n",
       "      <td>http://123.194.235.37:49320/.i</td>\n",
       "      <td>danger</td>\n",
       "    </tr>\n",
       "    <tr>\n",
       "      <th>140224</th>\n",
       "      <td>http://da.alibuf.com:3/445.exe</td>\n",
       "      <td>danger</td>\n",
       "    </tr>\n",
       "    <tr>\n",
       "      <th>140225</th>\n",
       "      <td>http://lameguard.ru/interlude-online/ru/system...</td>\n",
       "      <td>danger</td>\n",
       "    </tr>\n",
       "  </tbody>\n",
       "</table>\n",
       "<p>140226 rows × 2 columns</p>\n",
       "</div>"
      ],
      "text/plain": [
       "                                                      url    type\n",
       "0                      http://117.216.22.215:40288/Mozi.m  danger\n",
       "1                      http://117.212.172.53:47514/Mozi.m  danger\n",
       "2                       http://117.216.3.221:54646/Mozi.m  danger\n",
       "3                       http://123.5.126.245:36562/Mozi.m  danger\n",
       "4                     http://182.124.147.217:50588/bin.sh  danger\n",
       "...                                                   ...     ...\n",
       "140221                       http://58.230.89.42:34092/.i  danger\n",
       "140222                      http://63.245.122.93:29703/.i  danger\n",
       "140223                     http://123.194.235.37:49320/.i  danger\n",
       "140224                     http://da.alibuf.com:3/445.exe  danger\n",
       "140225  http://lameguard.ru/interlude-online/ru/system...  danger\n",
       "\n",
       "[140226 rows x 2 columns]"
      ]
     },
     "execution_count": 78,
     "metadata": {},
     "output_type": "execute_result"
    }
   ],
   "source": [
    "dataset2.rename(columns={0:'type'},inplace=True)\n",
    "dataset2"
   ]
  },
  {
   "cell_type": "markdown",
   "id": "bb969c60",
   "metadata": {},
   "source": [
    "## 3. Integrate Both Datasets"
   ]
  },
  {
   "cell_type": "code",
   "execution_count": 98,
   "id": "f35b2f73",
   "metadata": {},
   "outputs": [
    {
     "data": {
      "text/html": [
       "<div>\n",
       "<style scoped>\n",
       "    .dataframe tbody tr th:only-of-type {\n",
       "        vertical-align: middle;\n",
       "    }\n",
       "\n",
       "    .dataframe tbody tr th {\n",
       "        vertical-align: top;\n",
       "    }\n",
       "\n",
       "    .dataframe thead th {\n",
       "        text-align: right;\n",
       "    }\n",
       "</style>\n",
       "<table border=\"1\" class=\"dataframe\">\n",
       "  <thead>\n",
       "    <tr style=\"text-align: right;\">\n",
       "      <th></th>\n",
       "      <th>url</th>\n",
       "      <th>type</th>\n",
       "    </tr>\n",
       "  </thead>\n",
       "  <tbody>\n",
       "    <tr>\n",
       "      <th>0</th>\n",
       "      <td>http://95.214.24.120/C/2.txt</td>\n",
       "      <td>danger</td>\n",
       "    </tr>\n",
       "    <tr>\n",
       "      <th>1</th>\n",
       "      <td>http://valleyobgynassociates.com/wp-content/vp3</td>\n",
       "      <td>danger</td>\n",
       "    </tr>\n",
       "    <tr>\n",
       "      <th>2</th>\n",
       "      <td>http://112.248.152.255:57033/Mozi.m</td>\n",
       "      <td>danger</td>\n",
       "    </tr>\n",
       "    <tr>\n",
       "      <th>3</th>\n",
       "      <td>classmates.com/directory/public/memberprofile/...</td>\n",
       "      <td>safe</td>\n",
       "    </tr>\n",
       "    <tr>\n",
       "      <th>4</th>\n",
       "      <td>moneytalks.com/main.htm?id=</td>\n",
       "      <td>safe</td>\n",
       "    </tr>\n",
       "    <tr>\n",
       "      <th>...</th>\n",
       "      <td>...</td>\n",
       "      <td>...</td>\n",
       "    </tr>\n",
       "    <tr>\n",
       "      <th>791412</th>\n",
       "      <td>http://paypal.com.secure.information.vineyarda...</td>\n",
       "      <td>danger</td>\n",
       "    </tr>\n",
       "    <tr>\n",
       "      <th>791413</th>\n",
       "      <td>local.yahoo.com/info-18276551-st-paul-s-episco...</td>\n",
       "      <td>safe</td>\n",
       "    </tr>\n",
       "    <tr>\n",
       "      <th>791414</th>\n",
       "      <td>nps.gov/fone/historyculture/index.htm</td>\n",
       "      <td>safe</td>\n",
       "    </tr>\n",
       "    <tr>\n",
       "      <th>791415</th>\n",
       "      <td>culinaryinstitutemi.com/faculty/jamie-leroux/</td>\n",
       "      <td>safe</td>\n",
       "    </tr>\n",
       "    <tr>\n",
       "      <th>791416</th>\n",
       "      <td>nj.com/entertainment/tv/index.ssf/2011/09/char...</td>\n",
       "      <td>safe</td>\n",
       "    </tr>\n",
       "  </tbody>\n",
       "</table>\n",
       "<p>791417 rows × 2 columns</p>\n",
       "</div>"
      ],
      "text/plain": [
       "                                                      url    type\n",
       "0                            http://95.214.24.120/C/2.txt  danger\n",
       "1         http://valleyobgynassociates.com/wp-content/vp3  danger\n",
       "2                     http://112.248.152.255:57033/Mozi.m  danger\n",
       "3       classmates.com/directory/public/memberprofile/...    safe\n",
       "4                             moneytalks.com/main.htm?id=    safe\n",
       "...                                                   ...     ...\n",
       "791412  http://paypal.com.secure.information.vineyarda...  danger\n",
       "791413  local.yahoo.com/info-18276551-st-paul-s-episco...    safe\n",
       "791414              nps.gov/fone/historyculture/index.htm    safe\n",
       "791415      culinaryinstitutemi.com/faculty/jamie-leroux/    safe\n",
       "791416  nj.com/entertainment/tv/index.ssf/2011/09/char...    safe\n",
       "\n",
       "[791417 rows x 2 columns]"
      ]
     },
     "execution_count": 98,
     "metadata": {},
     "output_type": "execute_result"
    }
   ],
   "source": [
    "df = pd.concat([dataset,dataset2], axis=0)\n",
    "df = df.sample(frac=1).reset_index(drop=True)\n",
    "df"
   ]
  },
  {
   "cell_type": "code",
   "execution_count": 99,
   "id": "c2aa1861",
   "metadata": {},
   "outputs": [
    {
     "data": {
      "text/html": [
       "<div>\n",
       "<style scoped>\n",
       "    .dataframe tbody tr th:only-of-type {\n",
       "        vertical-align: middle;\n",
       "    }\n",
       "\n",
       "    .dataframe tbody tr th {\n",
       "        vertical-align: top;\n",
       "    }\n",
       "\n",
       "    .dataframe thead th {\n",
       "        text-align: right;\n",
       "    }\n",
       "</style>\n",
       "<table border=\"1\" class=\"dataframe\">\n",
       "  <thead>\n",
       "    <tr style=\"text-align: right;\">\n",
       "      <th></th>\n",
       "      <th>url</th>\n",
       "      <th>type</th>\n",
       "    </tr>\n",
       "  </thead>\n",
       "  <tbody>\n",
       "    <tr>\n",
       "      <th>count</th>\n",
       "      <td>791417</td>\n",
       "      <td>791417</td>\n",
       "    </tr>\n",
       "    <tr>\n",
       "      <th>unique</th>\n",
       "      <td>781332</td>\n",
       "      <td>2</td>\n",
       "    </tr>\n",
       "    <tr>\n",
       "      <th>top</th>\n",
       "      <td>http://style.org.hc360.com/css/detail/mysite/s...</td>\n",
       "      <td>safe</td>\n",
       "    </tr>\n",
       "    <tr>\n",
       "      <th>freq</th>\n",
       "      <td>180</td>\n",
       "      <td>428103</td>\n",
       "    </tr>\n",
       "  </tbody>\n",
       "</table>\n",
       "</div>"
      ],
      "text/plain": [
       "                                                      url    type\n",
       "count                                              791417  791417\n",
       "unique                                             781332       2\n",
       "top     http://style.org.hc360.com/css/detail/mysite/s...    safe\n",
       "freq                                                  180  428103"
      ]
     },
     "execution_count": 99,
     "metadata": {},
     "output_type": "execute_result"
    }
   ],
   "source": [
    "df.describe()"
   ]
  },
  {
   "cell_type": "code",
   "execution_count": 101,
   "id": "c2df3204",
   "metadata": {},
   "outputs": [
    {
     "data": {
      "image/png": "[encoded data removed]",
      "text/plain": [
       "<Figure size 432x288 with 1 Axes>"
      ]
     },
     "metadata": {},
     "output_type": "display_data"
    }
   ],
   "source": [
    "plt.pie(np.array(df.groupby(['type']).count()).reshape(-1), labels=['danger','safe'], autopct='%1.2f%%',shadow=True )\n",
    "plt.title(\"Dataset\")\n",
    "plt.show()"
   ]
  },
  {
   "cell_type": "markdown",
   "id": "cd156b01",
   "metadata": {},
   "source": [
    "Drop Duplicates and NULL values"
   ]
  },
  {
   "cell_type": "code",
   "execution_count": 110,
   "id": "bea23882",
   "metadata": {},
   "outputs": [
    {
     "data": {
      "text/html": [
       "<div>\n",
       "<style scoped>\n",
       "    .dataframe tbody tr th:only-of-type {\n",
       "        vertical-align: middle;\n",
       "    }\n",
       "\n",
       "    .dataframe tbody tr th {\n",
       "        vertical-align: top;\n",
       "    }\n",
       "\n",
       "    .dataframe thead th {\n",
       "        text-align: right;\n",
       "    }\n",
       "</style>\n",
       "<table border=\"1\" class=\"dataframe\">\n",
       "  <thead>\n",
       "    <tr style=\"text-align: right;\">\n",
       "      <th></th>\n",
       "      <th>url</th>\n",
       "      <th>type</th>\n",
       "    </tr>\n",
       "  </thead>\n",
       "  <tbody>\n",
       "    <tr>\n",
       "      <th>0</th>\n",
       "      <td>http://95.214.24.120/C/2.txt</td>\n",
       "      <td>danger</td>\n",
       "    </tr>\n",
       "    <tr>\n",
       "      <th>1</th>\n",
       "      <td>http://valleyobgynassociates.com/wp-content/vp3</td>\n",
       "      <td>danger</td>\n",
       "    </tr>\n",
       "    <tr>\n",
       "      <th>2</th>\n",
       "      <td>http://112.248.152.255:57033/Mozi.m</td>\n",
       "      <td>danger</td>\n",
       "    </tr>\n",
       "    <tr>\n",
       "      <th>3</th>\n",
       "      <td>classmates.com/directory/public/memberprofile/...</td>\n",
       "      <td>safe</td>\n",
       "    </tr>\n",
       "    <tr>\n",
       "      <th>4</th>\n",
       "      <td>moneytalks.com/main.htm?id=</td>\n",
       "      <td>safe</td>\n",
       "    </tr>\n",
       "    <tr>\n",
       "      <th>...</th>\n",
       "      <td>...</td>\n",
       "      <td>...</td>\n",
       "    </tr>\n",
       "    <tr>\n",
       "      <th>781327</th>\n",
       "      <td>http://paypal.com.secure.information.vineyarda...</td>\n",
       "      <td>danger</td>\n",
       "    </tr>\n",
       "    <tr>\n",
       "      <th>781328</th>\n",
       "      <td>local.yahoo.com/info-18276551-st-paul-s-episco...</td>\n",
       "      <td>safe</td>\n",
       "    </tr>\n",
       "    <tr>\n",
       "      <th>781329</th>\n",
       "      <td>nps.gov/fone/historyculture/index.htm</td>\n",
       "      <td>safe</td>\n",
       "    </tr>\n",
       "    <tr>\n",
       "      <th>781330</th>\n",
       "      <td>culinaryinstitutemi.com/faculty/jamie-leroux/</td>\n",
       "      <td>safe</td>\n",
       "    </tr>\n",
       "    <tr>\n",
       "      <th>781331</th>\n",
       "      <td>nj.com/entertainment/tv/index.ssf/2011/09/char...</td>\n",
       "      <td>safe</td>\n",
       "    </tr>\n",
       "  </tbody>\n",
       "</table>\n",
       "<p>781332 rows × 2 columns</p>\n",
       "</div>"
      ],
      "text/plain": [
       "                                                      url    type\n",
       "0                            http://95.214.24.120/C/2.txt  danger\n",
       "1         http://valleyobgynassociates.com/wp-content/vp3  danger\n",
       "2                     http://112.248.152.255:57033/Mozi.m  danger\n",
       "3       classmates.com/directory/public/memberprofile/...    safe\n",
       "4                             moneytalks.com/main.htm?id=    safe\n",
       "...                                                   ...     ...\n",
       "781327  http://paypal.com.secure.information.vineyarda...  danger\n",
       "781328  local.yahoo.com/info-18276551-st-paul-s-episco...    safe\n",
       "781329              nps.gov/fone/historyculture/index.htm    safe\n",
       "781330      culinaryinstitutemi.com/faculty/jamie-leroux/    safe\n",
       "781331  nj.com/entertainment/tv/index.ssf/2011/09/char...    safe\n",
       "\n",
       "[781332 rows x 2 columns]"
      ]
     },
     "execution_count": 110,
     "metadata": {},
     "output_type": "execute_result"
    }
   ],
   "source": [
    "df = df.drop_duplicates(subset=['url'])\n",
    "df = df.dropna().reset_index(drop=True)\n",
    "df"
   ]
  },
  {
   "cell_type": "code",
   "execution_count": 111,
   "id": "54338219",
   "metadata": {},
   "outputs": [
    {
     "data": {
      "text/html": [
       "<div>\n",
       "<style scoped>\n",
       "    .dataframe tbody tr th:only-of-type {\n",
       "        vertical-align: middle;\n",
       "    }\n",
       "\n",
       "    .dataframe tbody tr th {\n",
       "        vertical-align: top;\n",
       "    }\n",
       "\n",
       "    .dataframe thead th {\n",
       "        text-align: right;\n",
       "    }\n",
       "</style>\n",
       "<table border=\"1\" class=\"dataframe\">\n",
       "  <thead>\n",
       "    <tr style=\"text-align: right;\">\n",
       "      <th></th>\n",
       "      <th>url</th>\n",
       "      <th>type</th>\n",
       "    </tr>\n",
       "  </thead>\n",
       "  <tbody>\n",
       "    <tr>\n",
       "      <th>count</th>\n",
       "      <td>781332</td>\n",
       "      <td>781332</td>\n",
       "    </tr>\n",
       "    <tr>\n",
       "      <th>unique</th>\n",
       "      <td>781332</td>\n",
       "      <td>2</td>\n",
       "    </tr>\n",
       "    <tr>\n",
       "      <th>top</th>\n",
       "      <td>http://95.214.24.120/C/2.txt</td>\n",
       "      <td>safe</td>\n",
       "    </tr>\n",
       "    <tr>\n",
       "      <th>freq</th>\n",
       "      <td>1</td>\n",
       "      <td>428076</td>\n",
       "    </tr>\n",
       "  </tbody>\n",
       "</table>\n",
       "</div>"
      ],
      "text/plain": [
       "                                 url    type\n",
       "count                         781332  781332\n",
       "unique                        781332       2\n",
       "top     http://95.214.24.120/C/2.txt    safe\n",
       "freq                               1  428076"
      ]
     },
     "execution_count": 111,
     "metadata": {},
     "output_type": "execute_result"
    }
   ],
   "source": [
    "df.describe()"
   ]
  },
  {
   "cell_type": "markdown",
   "id": "3383134b",
   "metadata": {},
   "source": [
    "## 4. Final datset visualisation"
   ]
  },
  {
   "cell_type": "code",
   "execution_count": 112,
   "id": "72caa0b7",
   "metadata": {},
   "outputs": [
    {
     "data": {
      "image/png": "[encoded data removed]",
      "text/plain": [
       "<Figure size 432x288 with 1 Axes>"
      ]
     },
     "metadata": {},
     "output_type": "display_data"
    }
   ],
   "source": [
    "plt.pie(np.array(df.groupby(['type']).count()).reshape(-1), labels=['danger','safe'], autopct='%1.2f%%',shadow=True )\n",
    "plt.title(\"Dataset\")\n",
    "plt.show()"
   ]
  },
  {
   "cell_type": "markdown",
   "id": "17b40894",
   "metadata": {},
   "source": [
    "## 5. label encoding "
   ]
  },
  {
   "cell_type": "code",
   "execution_count": 114,
   "id": "1f8adafb",
   "metadata": {},
   "outputs": [
    {
     "data": {
      "text/html": [
       "<div>\n",
       "<style scoped>\n",
       "    .dataframe tbody tr th:only-of-type {\n",
       "        vertical-align: middle;\n",
       "    }\n",
       "\n",
       "    .dataframe tbody tr th {\n",
       "        vertical-align: top;\n",
       "    }\n",
       "\n",
       "    .dataframe thead th {\n",
       "        text-align: right;\n",
       "    }\n",
       "</style>\n",
       "<table border=\"1\" class=\"dataframe\">\n",
       "  <thead>\n",
       "    <tr style=\"text-align: right;\">\n",
       "      <th></th>\n",
       "      <th>url</th>\n",
       "      <th>type</th>\n",
       "    </tr>\n",
       "  </thead>\n",
       "  <tbody>\n",
       "    <tr>\n",
       "      <th>0</th>\n",
       "      <td>http://95.214.24.120/C/2.txt</td>\n",
       "      <td>0</td>\n",
       "    </tr>\n",
       "    <tr>\n",
       "      <th>1</th>\n",
       "      <td>http://valleyobgynassociates.com/wp-content/vp3</td>\n",
       "      <td>0</td>\n",
       "    </tr>\n",
       "    <tr>\n",
       "      <th>2</th>\n",
       "      <td>http://112.248.152.255:57033/Mozi.m</td>\n",
       "      <td>0</td>\n",
       "    </tr>\n",
       "    <tr>\n",
       "      <th>3</th>\n",
       "      <td>classmates.com/directory/public/memberprofile/...</td>\n",
       "      <td>1</td>\n",
       "    </tr>\n",
       "    <tr>\n",
       "      <th>4</th>\n",
       "      <td>moneytalks.com/main.htm?id=</td>\n",
       "      <td>1</td>\n",
       "    </tr>\n",
       "    <tr>\n",
       "      <th>...</th>\n",
       "      <td>...</td>\n",
       "      <td>...</td>\n",
       "    </tr>\n",
       "    <tr>\n",
       "      <th>781327</th>\n",
       "      <td>http://paypal.com.secure.information.vineyarda...</td>\n",
       "      <td>0</td>\n",
       "    </tr>\n",
       "    <tr>\n",
       "      <th>781328</th>\n",
       "      <td>local.yahoo.com/info-18276551-st-paul-s-episco...</td>\n",
       "      <td>1</td>\n",
       "    </tr>\n",
       "    <tr>\n",
       "      <th>781329</th>\n",
       "      <td>nps.gov/fone/historyculture/index.htm</td>\n",
       "      <td>1</td>\n",
       "    </tr>\n",
       "    <tr>\n",
       "      <th>781330</th>\n",
       "      <td>culinaryinstitutemi.com/faculty/jamie-leroux/</td>\n",
       "      <td>1</td>\n",
       "    </tr>\n",
       "    <tr>\n",
       "      <th>781331</th>\n",
       "      <td>nj.com/entertainment/tv/index.ssf/2011/09/char...</td>\n",
       "      <td>1</td>\n",
       "    </tr>\n",
       "  </tbody>\n",
       "</table>\n",
       "<p>781332 rows × 2 columns</p>\n",
       "</div>"
      ],
      "text/plain": [
       "                                                      url  type\n",
       "0                            http://95.214.24.120/C/2.txt     0\n",
       "1         http://valleyobgynassociates.com/wp-content/vp3     0\n",
       "2                     http://112.248.152.255:57033/Mozi.m     0\n",
       "3       classmates.com/directory/public/memberprofile/...     1\n",
       "4                             moneytalks.com/main.htm?id=     1\n",
       "...                                                   ...   ...\n",
       "781327  http://paypal.com.secure.information.vineyarda...     0\n",
       "781328  local.yahoo.com/info-18276551-st-paul-s-episco...     1\n",
       "781329              nps.gov/fone/historyculture/index.htm     1\n",
       "781330      culinaryinstitutemi.com/faculty/jamie-leroux/     1\n",
       "781331  nj.com/entertainment/tv/index.ssf/2011/09/char...     1\n",
       "\n",
       "[781332 rows x 2 columns]"
      ]
     },
     "execution_count": 114,
     "metadata": {},
     "output_type": "execute_result"
    }
   ],
   "source": [
    "from sklearn import preprocessing\n",
    "lb = preprocessing.LabelEncoder()\n",
    "df['type'] = lb.fit_transform(df['type'])\n",
    "df"
   ]
  },
  {
   "cell_type": "code",
   "execution_count": 115,
   "id": "4d080aa8",
   "metadata": {},
   "outputs": [],
   "source": [
    "# we can observe that \"http://95.214.24.120/C/2.txt\" was danger and after encoding it is 0, so 0=attack and 1=safe"
   ]
  },
  {
   "cell_type": "markdown",
   "id": "43329f88",
   "metadata": {},
   "source": [
    "Save Final Dataset"
   ]
  },
  {
   "cell_type": "code",
   "execution_count": 116,
   "id": "ef1d2c82",
   "metadata": {},
   "outputs": [],
   "source": [
    "df.to_csv(\"D:/Data Science/Project/link detection/url_checker/dataset/df_final.csv\",index=False)"
   ]
  }
 ],
 "metadata": {
  "kernelspec": {
   "display_name": "Python 3 (ipykernel)",
   "language": "python",
   "name": "python3"
  },
  "language_info": {
   "codemirror_mode": {
    "name": "ipython",
    "version": 3
   },
   "file_extension": ".py",
   "mimetype": "text/x-python",
   "name": "python",
   "nbconvert_exporter": "python",
   "pygments_lexer": "ipython3",
   "version": "3.9.12"
  }
 },
 "nbformat": 4,
 "nbformat_minor": 5
}
