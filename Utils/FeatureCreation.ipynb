{
 "cells": [
  {
   "cell_type": "code",
   "execution_count": 7,
   "id": "d1ad836f",
   "metadata": {},
   "outputs": [],
   "source": [
    "import pandas as pd\n",
    "import numpy as np\n",
    "import matplotlib.pyplot as plt\n",
    "import random\n",
    "import re\n",
    "import tensorflow as tf\n",
    "from nltk.util import ngrams\n",
    "import itertools\n",
    "N_for_NGram = 3\n",
    "Sequence_length = 500\n",
    "epochs = 50\n",
    "n_classes = 2"
   ]
  },
  {
   "cell_type": "code",
   "execution_count": null,
   "id": "7826e37a",
   "metadata": {},
   "outputs": [],
   "source": []
  },
  {
   "cell_type": "code",
   "execution_count": 2,
   "id": "e75cce29",
   "metadata": {},
   "outputs": [],
   "source": [
    "import pandas as pd\n",
    "import numpy as np\n",
    "import matplotlib.pyplot as plt\n",
    "import random\n",
    "import re\n",
    "from nltk.util import ngrams\n",
    "import itertools\n",
    "import tensorflow as tf\n",
    "from urllib.parse import urlparse"
   ]
  },
  {
   "cell_type": "code",
   "execution_count": 5,
   "id": "d45be94e",
   "metadata": {},
   "outputs": [],
   "source": [
    "import pandas as pd\n",
    "import tensorflow as tf\n",
    "from FeatureCreation import create_features\n",
    "AUTOTUNE = tf.data.AUTOTUNE\n",
    "\n",
    "# Define a function to preprocess the link\n",
    "def preprocess_link(link):\n",
    "    # Convert all letters to lowercase\n",
    "    link = link.lower()\n",
    "    link = link.replace(\"http://\",\"\")\n",
    "    link = link.replace(\"https://\",\"\")\n",
    "    link = link.replace(\"www.\",\"\")\n",
    "    link = link.replace(\" \",\"\")\n",
    "    link = link.strip()\n",
    "    # Remove punctuation and special characters\n",
    "    link = re.sub('[^A-Za-z0-9]+', '', link)\n",
    "    return link\n",
    "\n",
    "def steps_per_epoch(dataframe,batch_size):\n",
    "    return len(dataframe)//batch_size\n",
    "\n",
    "def process_train_data(df,batch_size):\n",
    "    df_numeric = create_features(df)\n",
    "    df['url'] = df['url'].apply(preprocess_link)\n",
    "    df = df.drop_duplicates(subset=['url'])\n",
    "    df = df.dropna().reset_index(drop=True)\n",
    "    ds = tf.data.Dataset.from_tensor_slices((df['url'].values, df_numeric.values, df['type'].values))\n",
    "    ds = ds.batch(batch_size)\n",
    "    return ds\n",
    "\n",
    "def vectorize_text(text,numerics, label, Vectorize_Layer):\n",
    "    text = tf.expand_dims(text, -1)\n",
    "    return Vectorize_Layer(text), numerics, label\n",
    "\n",
    "def process_data(df,batch_size, Vectorize_Layer):\n",
    "    ds = process_train_data(df,batch_size)\n",
    "    ds = ds.map(lambda x, y, z: vectorize_text(x,y,x,Vectorize_Layer))\n",
    "    ds = ds.cache().prefetch(buffer_size=AUTOTUNE)\n",
    "    return ds\n",
    "\n",
    "def process_links(links,batch_size, Vectorize_Layer):\n",
    "    df = pd.Dataframe()\n",
    "    df['url'] = links\n",
    "    # here type is not provided as these links type is to be predicted, so we are keeping 0 just only for maintaining dimensionality\n",
    "    df['type'] = 0\n",
    "    return process_data(df,batch_size, Vectorize_Layer)\n",
    "    \n"
   ]
  },
  {
   "cell_type": "code",
   "execution_count": 6,
   "id": "e41908d5",
   "metadata": {},
   "outputs": [
    {
     "data": {
      "text/html": [
       "<div>\n",
       "<style scoped>\n",
       "    .dataframe tbody tr th:only-of-type {\n",
       "        vertical-align: middle;\n",
       "    }\n",
       "\n",
       "    .dataframe tbody tr th {\n",
       "        vertical-align: top;\n",
       "    }\n",
       "\n",
       "    .dataframe thead th {\n",
       "        text-align: right;\n",
       "    }\n",
       "</style>\n",
       "<table border=\"1\" class=\"dataframe\">\n",
       "  <thead>\n",
       "    <tr style=\"text-align: right;\">\n",
       "      <th></th>\n",
       "      <th>url</th>\n",
       "      <th>type</th>\n",
       "    </tr>\n",
       "  </thead>\n",
       "  <tbody>\n",
       "    <tr>\n",
       "      <th>0</th>\n",
       "      <td>https://www.google.com/</td>\n",
       "      <td>0</td>\n",
       "    </tr>\n",
       "  </tbody>\n",
       "</table>\n",
       "</div>"
      ],
      "text/plain": [
       "                       url  type\n",
       "0  https://www.google.com/     0"
      ]
     },
     "execution_count": 6,
     "metadata": {},
     "output_type": "execute_result"
    }
   ],
   "source": [
    "import pandas as pd\n",
    "df = pd.DataFrame()\n",
    "df['url']=[\"https://www.google.com/\"]\n",
    "df['type']=[0]\n",
    "df"
   ]
  },
  {
   "cell_type": "code",
   "execution_count": null,
   "id": "34090449",
   "metadata": {},
   "outputs": [],
   "source": []
  },
  {
   "cell_type": "code",
   "execution_count": 4,
   "id": "aa5c746a",
   "metadata": {},
   "outputs": [
    {
     "data": {
      "text/html": [
       "<div>\n",
       "<style scoped>\n",
       "    .dataframe tbody tr th:only-of-type {\n",
       "        vertical-align: middle;\n",
       "    }\n",
       "\n",
       "    .dataframe tbody tr th {\n",
       "        vertical-align: top;\n",
       "    }\n",
       "\n",
       "    .dataframe thead th {\n",
       "        text-align: right;\n",
       "    }\n",
       "</style>\n",
       "<table border=\"1\" class=\"dataframe\">\n",
       "  <thead>\n",
       "    <tr style=\"text-align: right;\">\n",
       "      <th></th>\n",
       "      <th>url</th>\n",
       "      <th>type</th>\n",
       "      <th>use_of_ip</th>\n",
       "      <th>abnormal_url</th>\n",
       "      <th>count.</th>\n",
       "      <th>count-www</th>\n",
       "      <th>count@</th>\n",
       "      <th>count_dir</th>\n",
       "      <th>count_embed_domian</th>\n",
       "      <th>count-https</th>\n",
       "      <th>count-http</th>\n",
       "      <th>count%</th>\n",
       "      <th>count?</th>\n",
       "      <th>count-</th>\n",
       "      <th>count=</th>\n",
       "      <th>url_length</th>\n",
       "      <th>hostname_length</th>\n",
       "      <th>count-digits</th>\n",
       "      <th>count-letters</th>\n",
       "      <th>fd_length</th>\n",
       "    </tr>\n",
       "  </thead>\n",
       "  <tbody>\n",
       "    <tr>\n",
       "      <th>0</th>\n",
       "      <td>https://www.google.com/</td>\n",
       "      <td>0</td>\n",
       "      <td>0</td>\n",
       "      <td>1</td>\n",
       "      <td>2</td>\n",
       "      <td>1</td>\n",
       "      <td>0</td>\n",
       "      <td>1</td>\n",
       "      <td>0</td>\n",
       "      <td>1</td>\n",
       "      <td>1</td>\n",
       "      <td>0</td>\n",
       "      <td>0</td>\n",
       "      <td>0</td>\n",
       "      <td>0</td>\n",
       "      <td>23</td>\n",
       "      <td>14</td>\n",
       "      <td>0</td>\n",
       "      <td>17</td>\n",
       "      <td>0</td>\n",
       "    </tr>\n",
       "  </tbody>\n",
       "</table>\n",
       "</div>"
      ],
      "text/plain": [
       "                       url  type  use_of_ip  abnormal_url  count.  count-www  \\\n",
       "0  https://www.google.com/     0          0             1       2          1   \n",
       "\n",
       "   count@  count_dir  count_embed_domian  count-https  count-http  count%  \\\n",
       "0       0          1                   0            1           1       0   \n",
       "\n",
       "   count?  count-  count=  url_length  hostname_length  count-digits  \\\n",
       "0       0       0       0          23               14             0   \n",
       "\n",
       "   count-letters  fd_length  \n",
       "0             17          0  "
      ]
     },
     "execution_count": 4,
     "metadata": {},
     "output_type": "execute_result"
    }
   ],
   "source": [
    "from FeatureCreation import create_features\n",
    "df = create_features(df)\n",
    "df"
   ]
  },
  {
   "cell_type": "code",
   "execution_count": null,
   "id": "6c78a957",
   "metadata": {},
   "outputs": [],
   "source": [
    "# Typically, cyber attackers replace the domain name in a URL with an IP address to conceal the website's identity. This feature is designed to verify whether the URL includes an IP address or not.\n",
    "def having_ip_address(url):\n",
    "    match = re.search(\n",
    "        '(([01]?\\\\d\\\\d?|2[0-4]\\\\d|25[0-5])\\\\.([01]?\\\\d\\\\d?|2[0-4]\\\\d|25[0-5])\\\\.([01]?\\\\d\\\\d?|2[0-4]\\\\d|25[0-5])\\\\.'\n",
    "        '([01]?\\\\d\\\\d?|2[0-4]\\\\d|25[0-5])\\\\/)|'  # IPv4\n",
    "        '((0x[0-9a-fA-F]{1,2})\\\\.(0x[0-9a-fA-F]{1,2})\\\\.(0x[0-9a-fA-F]{1,2})\\\\.(0x[0-9a-fA-F]{1,2})\\\\/)' # IPv4 in hexadecimal\n",
    "        '(?:[a-fA-F0-9]{1,4}:){7}[a-fA-F0-9]{1,4}', url)  # Ipv6\n",
    "    if match:\n",
    "        return 1\n",
    "    else:\n",
    "        return 0"
   ]
  },
  {
   "cell_type": "code",
   "execution_count": 9,
   "id": "5de7a46c",
   "metadata": {},
   "outputs": [],
   "source": [
    "# check whether link is in proper formatting or not\n",
    "def abnormal_url(url):\n",
    "    hostname = urlparse(url).hostname\n",
    "    hostname = str(hostname)\n",
    "    match = re.search(hostname, url)\n",
    "    if match:\n",
    "        return 1\n",
    "    else:\n",
    "        return 0"
   ]
  },
  {
   "cell_type": "code",
   "execution_count": null,
   "id": "43775efd",
   "metadata": {},
   "outputs": [],
   "source": [
    "# Phishing or malware websites often incorporate multiple sub-domains into their URLs, with each sub-domain separated by a dot (.). URLs containing more than three dots (.) are more likely to be malicious sites.\n",
    "def count_dot(url):\n",
    "    count_dot = url.count('.')\n",
    "    return count_dot"
   ]
  },
  {
   "cell_type": "code",
   "execution_count": null,
   "id": "289a16f5",
   "metadata": {},
   "outputs": [],
   "source": [
    "# In general, most safe websites contain only one \"www\" in their URLs. This feature can aid in identifying malicious websites by detecting URLs that either lack \"www\" or contain more than one instance of it.\n",
    "def count_www(url):\n",
    "    url.count('www')\n",
    "    return url.count('www')"
   ]
  },
  {
   "cell_type": "code",
   "execution_count": null,
   "id": "55125b7b",
   "metadata": {},
   "outputs": [],
   "source": [
    "# The occurrence of the \"@\" symbol in a URL causes everything preceding it to be disregarded.\n",
    "def count_atrate(url): \n",
    "    return url.count('@')"
   ]
  },
  {
   "cell_type": "code",
   "execution_count": null,
   "id": "64f23e2e",
   "metadata": {},
   "outputs": [],
   "source": [
    "# Websites that contain multiple directories within their URLs are typically considered suspicious.\n",
    "def no_of_dir(url):\n",
    "    urldir = urlparse(url).path\n",
    "    return urldir.count('/')"
   ]
  },
  {
   "cell_type": "code",
   "execution_count": null,
   "id": "5753a3c1",
   "metadata": {},
   "outputs": [],
   "source": [
    "# Examining the frequency of the \" //\" sequence within a URL can aid in identifying malicious URLs with multiple embedded domains.\n",
    "def no_of_embed(url):\n",
    "    urldir = urlparse(url).path\n",
    "    return urldir.count('//')"
   ]
  },
  {
   "cell_type": "code",
   "execution_count": 22,
   "id": "16244fb5",
   "metadata": {},
   "outputs": [
    {
     "name": "stdout",
     "output_type": "stream",
     "text": [
      "['Linkjoy', 'Switchy', 'Bitly', 'Rebrandly', 'Cutt.ly', 'Sniply', 'BL.INK', 'RocketLink', 'BioLinky', 'Geniuslink', 'Clickmeter', 'Capsulink', 'Linkpop', 'Short.io', 'TinyURL', 'Replug', 'ShortURL', 'Bio Link', 'ClickToTweet', 'PixelMe', 'LnnkIn', 'smartURL']\n"
     ]
    }
   ],
   "source": [
    "# Malicious URLs often avoid using HTTPS protocols as they typically require user credentials and provide a layer of security for online transactions. Therefore, the presence or absence of HTTPS protocol in a URL can be a crucial indicator in determining its safety.\n",
    "def count_https(url):\n",
    "    return url.count('https')"
   ]
  },
  {
   "cell_type": "code",
   "execution_count": null,
   "id": "1cc9dfa1",
   "metadata": {},
   "outputs": [],
   "source": [
    "# Typically, phishing or malicious websites contain multiple instances of HTTP in their URL, whereas safe websites only have one.\n",
    "def count_http(url):\n",
    "    return url.count('http')"
   ]
  },
  {
   "cell_type": "code",
   "execution_count": null,
   "id": "082dfe55",
   "metadata": {},
   "outputs": [],
   "source": [
    "# As URLs cannot contain spaces, they are often replaced with symbols (%), which is known as URL encoding. Safe websites tend to have fewer spaces in their URLs, while malicious sites often have more, resulting in a higher number of % symbols.\n",
    "def count_per(url):\n",
    "    return url.count('%')"
   ]
  },
  {
   "cell_type": "code",
   "execution_count": null,
   "id": "b19a8b8c",
   "metadata": {},
   "outputs": [],
   "source": [
    "# A symbol (?) in a URL indicates the presence of a query string, which contains data to be sent to the server. If a URL contains multiple instances of the symbol (?), it can be a sign of a suspicious URL.\n",
    "def count_ques(url):\n",
    "    return url.count('?')"
   ]
  },
  {
   "cell_type": "code",
   "execution_count": null,
   "id": "16f1a6ed",
   "metadata": {},
   "outputs": [],
   "source": [
    "# To make a URL appear genuine, phishers and cybercriminals often add dashes (-) to the prefix or suffix of a brand name. For instance, they may create a URL like www.flipkart-india.com.\n",
    "def count_hyphen(url):\n",
    "    return url.count('-')"
   ]
  },
  {
   "cell_type": "code",
   "execution_count": null,
   "id": "8bd1dd0e",
   "metadata": {},
   "outputs": [],
   "source": [
    "# The presence of an equal sign (=) in a URL implies that variable values are being passed from one form page to another. This is considered risky since anyone can modify the values and alter the page.\n",
    "def count_equal(url):\n",
    "    return url.count('=')"
   ]
  },
  {
   "cell_type": "code",
   "execution_count": null,
   "id": "c69af08c",
   "metadata": {},
   "outputs": [],
   "source": [
    "#Length of URL\n",
    "def url_length(url):\n",
    "    return len(str(url))"
   ]
  },
  {
   "cell_type": "code",
   "execution_count": null,
   "id": "7ec755df",
   "metadata": {},
   "outputs": [],
   "source": [
    "#Hostname Length\n",
    "def hostname_length(url):\n",
    "    return len(urlparse(url).netloc)"
   ]
  },
  {
   "cell_type": "code",
   "execution_count": null,
   "id": "ed0994e9",
   "metadata": {},
   "outputs": [],
   "source": [
    "def digit_count(url):\n",
    "    digits = 0\n",
    "    for i in url:\n",
    "        if i.isnumeric():\n",
    "            digits = digits + 1\n",
    "    return digits"
   ]
  },
  {
   "cell_type": "code",
   "execution_count": null,
   "id": "458fe1b8",
   "metadata": {},
   "outputs": [],
   "source": [
    "def letter_count(url):\n",
    "    letters = 0\n",
    "    for i in url:\n",
    "        if i.isalpha():\n",
    "            letters = letters + 1\n",
    "    return letters"
   ]
  },
  {
   "cell_type": "code",
   "execution_count": null,
   "id": "2c3a7a67",
   "metadata": {},
   "outputs": [],
   "source": [
    "#First Directory Length\n",
    "def fd_length(url):\n",
    "    urlpath= urlparse(url).path\n",
    "    try:\n",
    "        return len(urlpath.split('/')[1])\n",
    "    except:\n",
    "        return 0"
   ]
  },
  {
   "cell_type": "code",
   "execution_count": 23,
   "id": "0ae4a637",
   "metadata": {},
   "outputs": [],
   "source": [
    "def create_features(df):\n",
    "    df['use_of_ip'] = df['url'].apply(lambda i: having_ip_address(i))\n",
    "    df['abnormal_url'] = df['url'].apply(lambda i: abnormal_url(i))\n",
    "    df['count.'] = df['url'].apply(lambda i: count_dot(i))\n",
    "    df['count-www'] = df['url'].apply(lambda i: count_www(i))\n",
    "    df['count@'] = df['url'].apply(lambda i: count_atrate(i))\n",
    "    df['count_dir'] = df['url'].apply(lambda i: no_of_dir(i))\n",
    "    df['count_embed_domian'] = df['url'].apply(lambda i: no_of_embed(i))\n",
    "    df['count-https'] = df['url'].apply(lambda i : count_https(i))\n",
    "    df['count-http'] = df['url'].apply(lambda i : count_http(i))\n",
    "    df['count%'] = df['url'].apply(lambda i : count_per(i))\n",
    "    df['count?'] = df['url'].apply(lambda i: count_ques(i))\n",
    "    df['count-'] = df['url'].apply(lambda i: count_hyphen(i))\n",
    "    df['count='] = df['url'].apply(lambda i: count_equal(i))\n",
    "    df['url_length'] = df['url'].apply(lambda i: url_length(i))\n",
    "    df['hostname_length'] = df['url'].apply(lambda i: hostname_length(i))\n",
    "    df['count-digits']= df['url'].apply(lambda i: digit_count(i))\n",
    "    df['count-letters']= df['url'].apply(lambda i: letter_count(i))\n",
    "    df['fd_length'] = df['url'].apply(lambda i: fd_length(i))\n",
    "    return df"
   ]
  },
  {
   "cell_type": "code",
   "execution_count": null,
   "id": "5e2691b2",
   "metadata": {},
   "outputs": [],
   "source": []
  }
 ],
 "metadata": {
  "kernelspec": {
   "display_name": "Python 3 (ipykernel)",
   "language": "python",
   "name": "python3"
  },
  "language_info": {
   "codemirror_mode": {
    "name": "ipython",
    "version": 3
   },
   "file_extension": ".py",
   "mimetype": "text/x-python",
   "name": "python",
   "nbconvert_exporter": "python",
   "pygments_lexer": "ipython3",
   "version": "3.10.9"
  }
 },
 "nbformat": 4,
 "nbformat_minor": 5
}
